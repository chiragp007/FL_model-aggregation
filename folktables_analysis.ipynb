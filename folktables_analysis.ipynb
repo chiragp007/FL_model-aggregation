{
 "cells": [
  {
   "cell_type": "code",
   "execution_count": 3,
   "metadata": {
    "pycharm": {
     "is_executing": true
    }
   },
   "outputs": [],
   "source": [
    "# !pip install folktables"
   ]
  },
  {
   "cell_type": "code",
   "execution_count": 4,
   "metadata": {},
   "outputs": [],
   "source": [
    "#info about Data\n",
    "# https://arxiv.org/pdf/2108.04884.pdf\n",
    "\n",
    "\n",
    "#ACSDataSource ,ACSEmployment, ACSPublicCoverage, ACSIncome"
   ]
  },
  {
   "cell_type": "markdown",
   "metadata": {},
   "source": [
    "-> (using ACSEmployment) from the paper: predict whether an individual is employed, after filtering the ACS PUMS data\n",
    "sample to only include individuals between the ages of 16 and 90  "
   ]
  },
  {
   "cell_type": "code",
   "execution_count": 5,
   "metadata": {},
   "outputs": [],
   "source": [
    "import pandas as pd\n",
    "import numpy as np\n",
    "from folktables import ACSDataSource, ACSEmployment,ACSIncome\n",
    "import matplotlib.pyplot as plt"
   ]
  },
  {
   "cell_type": "code",
   "execution_count": 6,
   "metadata": {},
   "outputs": [],
   "source": [
    "# detail about the state: load_acs.py"
   ]
  },
  {
   "cell_type": "code",
   "execution_count": 7,
   "metadata": {},
   "outputs": [
    {
     "name": "stdout",
     "output_type": "stream",
     "text": [
      "Downloading data for 2018 1-Year person survey for AL...\n"
     ]
    }
   ],
   "source": [
    "data_source = ACSDataSource(survey_year='2018', horizon='1-Year', survey='person')\n",
    "acs_data = data_source.get_data(states=[\"AL\"], download=True)"
   ]
  },
  {
   "cell_type": "markdown",
   "metadata": {},
   "source": []
  },
  {
   "cell_type": "markdown",
   "metadata": {},
   "source": [
    "#  Info about the data"
   ]
  },
  {
   "cell_type": "markdown",
   "metadata": {},
   "source": [
    "B.4 ACSEmployment\n",
    "\n",
    "Predict whether an adult is employed.\n",
    "\n",
    "Target: ESR (Employment status recode): an individual’s label is 1 if ESR == 1, and 0 otherwise.\n",
    "Features:\n",
    "\n",
    "• AGEP (Age): Range of values:\n",
    "– 0 - 99 (integers)\n",
    "– 0 indicates less than 1 year old.\n",
    "\n",
    "• SCHL (Educational attainment): Range of values:\n",
    "– N/A (less than 3 years old)\n",
    "– 1: No schooling completed\n",
    "– 2: Nursery school/preschool\n",
    "– 3: Kindergarten\n",
    "– 4: Grade 1\n",
    "– 5: Grade 2\n",
    "– 6: Grade 3\n",
    "– 7: Grade 4\n",
    "– 8: Grade 5\n",
    "– 9: Grade 6\n",
    "– 10: Grade 7\n",
    "– 11: Grade 8\n",
    "– 12: Grade 9\n",
    "– 13: Grade 10\n",
    "– 14: Grade 11\n",
    "– 15: 12th Grade - no diploma\n",
    "– 16: Regular high school diploma\n",
    "– 17: GED or alternative credential\n",
    "– 18: Some college but less than 1 year\n",
    "– 19: 1 or more years of college credit but no degree\n",
    "– 20: Associate’s degree\n",
    "– 21: Bachelor’s degree\n",
    "– 22: Master’s degree\n",
    "– 23: Professional degree beyond a bachelor’s degree\n",
    "– 24: Doctorate degree\n",
    "\n",
    "• MAR (Marital status): Range of values:\n",
    "– 1: Married\n",
    "– 2: Widowed\n",
    "– 3: Divorced\n",
    "– 4: Separated\n",
    "– 5: Never married or under 15 years old\n",
    "\n",
    "• SEX (Sex): Range of values:\n",
    "– 1: Male\n",
    "– 2: Female\n",
    "\n",
    "• DIS (Disability recode): Range of values:\n",
    "– 1: With a disability\n",
    "– 2: Without a disability\n",
    "\n",
    "• ESP (Employment status of parents): Range of values:\n",
    "– N/A (not own child of householder, and not child in subfamily)\n",
    "– 1: Living with two parents: both parents in labor force\n",
    "– 2: Living with two parents: Father only in labor force\n",
    "– 3: Living with two parents: Mother only in labor force\n",
    "– 4: Living with two parents: Neither parent in labor force\n",
    "– 5: Living with father: Father in the labor force\n",
    "– 6: Living with father: Father not in labor force\n",
    "– 7: Living with mother: Mother in the labor force\n",
    "– 8: Living with mother: Mother not in labor force\n",
    "\n",
    "• MIG (Mobility status (lived here 1 year ago): Range of values:\n",
    "– N/A (less than 1 year old)\n",
    "– 1: Yes, same house (nonmovers)\n",
    "– 2: No, outside US and Puerto Rico\n",
    "– 3: No, different house in US or Puerto Rico\n",
    "\n",
    "• CIT (Citizenship status): Range of values:\n",
    "– 1: Born in the U.S.\n",
    "– 2: Born in Puerto Rico, Guam, the U.S. Virgin Islands, or the Northern Marianas\n",
    "– 3: Born abroad of American parent(s)\n",
    "– 4: U.S. citizen by naturalization\n",
    "– 5: Not a citizen of the U.S.\n",
    "\n",
    "• MIL (Military service): Range of values:\n",
    "– N/A (less than 17 years old)\n",
    "– 1: Now on active duty\n",
    "– 2: On active duty in the past, but not now\n",
    "– 3: Only on active duty for training in Reserves/National Guard\n",
    "– 4: Never served in the military\n",
    "\n",
    "• ANC (Ancestry recode): Range of values:\n",
    "– 1: Single\n",
    "– 2: Multiple\n",
    "– 3: Unclassified\n",
    "– 4: Not reported\n",
    "– 8: Suppressed for data year 2018 for select PUMAs\n",
    "\n",
    "• NATIVITY (Nativity): Range of values:\n",
    "– 1: Native\n",
    "– 2: Foreign born\n",
    "\n",
    "• RELP (Relationship): Range of values:\n",
    "– 0: Reference person\n",
    "– 1: Husband/wife\n",
    "– 2: Biological son or daughter\n",
    "– 3: Adopted son or daughter\n",
    "– 4: Stepson or stepdaughter\n",
    "– 5: Brother or sister\n",
    "– 6: Father or mother\n",
    "– 7: Grandchild\n",
    "– 8: Parent-in-law\n",
    "– 9: Son-in-law or daughter-in-law\n",
    "– 10: Other relative\n",
    "– 11: Roomer or boarder\n",
    "– 12: Housemate or roommate\n",
    "– 13: Unmarried partner\n",
    "– 14: Foster child\n",
    "– 15: Other nonrelative\n",
    "– 16: Institutionalized group quarters population\n",
    "– 17: Noninstitutionalized group quarters population\n",
    "\n",
    "• DEAR (Hearing difficulty): Range of values:\n",
    "– 1: Yes\n",
    "– 2: No\n",
    "\n",
    "• DEYE (Vision difficulty): Range of values:\n",
    "– 1: Yes\n",
    "– 2: No\n",
    "\n",
    "• DREM (Cognitive difficulty): Range of values:\n",
    "– N/A (less than 5 years old)\n",
    "– 1: Yes\n",
    "– 2: No\n",
    "\n",
    "• RAC1P (Recoded detailed race code): Range of values:\n",
    "– 1: White alone\n",
    "– 2: Black or African American alone\n",
    "– 3: American Indian alone\n",
    "– 4: Alaska Native alone\n",
    "– 5: American Indian and Alaska Native tribes specified, or American Indian or Alaska Native, not specified and no other races\n",
    "– 6: Asian alone\n",
    "– 7: Native Hawaiian and Other Pacific Islander alone\n",
    "– 8: Some Other Race alone\n",
    "– 9: Two or More Races\n",
    "\n",
    "• GCL (Grandparents living with grandchildren): Range of values:\n",
    "– N/A (less than 30 years/institutional GQ)\n",
    "– 1: Yes\n",
    "– 2: No\n",
    "\n",
    "Filters:\n",
    "• AGEP (Age) must be greater than 16 and less than 90.\n",
    "• PWGTP (Person weight) must be greater than or equal to 1"
   ]
  },
  {
   "cell_type": "code",
   "execution_count": 8,
   "metadata": {},
   "outputs": [],
   "source": [
    "# features_np, label_np, group_np = ACSEmployment.df_to_numpy(acs_data)\n",
    "features, label, group = ACSEmployment.df_to_pandas(acs_data)"
   ]
  },
  {
   "cell_type": "code",
   "execution_count": 9,
   "metadata": {},
   "outputs": [
    {
     "data": {
      "text/html": [
       "<div>\n",
       "<style scoped>\n",
       "    .dataframe tbody tr th:only-of-type {\n",
       "        vertical-align: middle;\n",
       "    }\n",
       "\n",
       "    .dataframe tbody tr th {\n",
       "        vertical-align: top;\n",
       "    }\n",
       "\n",
       "    .dataframe thead th {\n",
       "        text-align: right;\n",
       "    }\n",
       "</style>\n",
       "<table border=\"1\" class=\"dataframe\">\n",
       "  <thead>\n",
       "    <tr style=\"text-align: right;\">\n",
       "      <th></th>\n",
       "      <th>AGEP</th>\n",
       "      <th>SCHL</th>\n",
       "      <th>MAR</th>\n",
       "      <th>RELP</th>\n",
       "      <th>DIS</th>\n",
       "      <th>ESP</th>\n",
       "      <th>CIT</th>\n",
       "      <th>MIG</th>\n",
       "      <th>MIL</th>\n",
       "      <th>ANC</th>\n",
       "      <th>NATIVITY</th>\n",
       "      <th>DEAR</th>\n",
       "      <th>DEYE</th>\n",
       "      <th>DREM</th>\n",
       "      <th>SEX</th>\n",
       "      <th>RAC1P</th>\n",
       "    </tr>\n",
       "  </thead>\n",
       "  <tbody>\n",
       "    <tr>\n",
       "      <th>0</th>\n",
       "      <td>19.0</td>\n",
       "      <td>18.0</td>\n",
       "      <td>5.0</td>\n",
       "      <td>17.0</td>\n",
       "      <td>2.0</td>\n",
       "      <td>0.0</td>\n",
       "      <td>1.0</td>\n",
       "      <td>3.0</td>\n",
       "      <td>4.0</td>\n",
       "      <td>1.0</td>\n",
       "      <td>1.0</td>\n",
       "      <td>2.0</td>\n",
       "      <td>2.0</td>\n",
       "      <td>2.0</td>\n",
       "      <td>2.0</td>\n",
       "      <td>1.0</td>\n",
       "    </tr>\n",
       "    <tr>\n",
       "      <th>1</th>\n",
       "      <td>18.0</td>\n",
       "      <td>18.0</td>\n",
       "      <td>5.0</td>\n",
       "      <td>17.0</td>\n",
       "      <td>2.0</td>\n",
       "      <td>0.0</td>\n",
       "      <td>1.0</td>\n",
       "      <td>3.0</td>\n",
       "      <td>4.0</td>\n",
       "      <td>1.0</td>\n",
       "      <td>1.0</td>\n",
       "      <td>2.0</td>\n",
       "      <td>2.0</td>\n",
       "      <td>2.0</td>\n",
       "      <td>2.0</td>\n",
       "      <td>2.0</td>\n",
       "    </tr>\n",
       "    <tr>\n",
       "      <th>2</th>\n",
       "      <td>53.0</td>\n",
       "      <td>17.0</td>\n",
       "      <td>5.0</td>\n",
       "      <td>16.0</td>\n",
       "      <td>1.0</td>\n",
       "      <td>0.0</td>\n",
       "      <td>1.0</td>\n",
       "      <td>1.0</td>\n",
       "      <td>4.0</td>\n",
       "      <td>2.0</td>\n",
       "      <td>1.0</td>\n",
       "      <td>2.0</td>\n",
       "      <td>2.0</td>\n",
       "      <td>1.0</td>\n",
       "      <td>1.0</td>\n",
       "      <td>1.0</td>\n",
       "    </tr>\n",
       "    <tr>\n",
       "      <th>3</th>\n",
       "      <td>28.0</td>\n",
       "      <td>19.0</td>\n",
       "      <td>5.0</td>\n",
       "      <td>16.0</td>\n",
       "      <td>2.0</td>\n",
       "      <td>0.0</td>\n",
       "      <td>1.0</td>\n",
       "      <td>1.0</td>\n",
       "      <td>2.0</td>\n",
       "      <td>1.0</td>\n",
       "      <td>1.0</td>\n",
       "      <td>2.0</td>\n",
       "      <td>2.0</td>\n",
       "      <td>2.0</td>\n",
       "      <td>1.0</td>\n",
       "      <td>1.0</td>\n",
       "    </tr>\n",
       "    <tr>\n",
       "      <th>4</th>\n",
       "      <td>25.0</td>\n",
       "      <td>12.0</td>\n",
       "      <td>5.0</td>\n",
       "      <td>16.0</td>\n",
       "      <td>1.0</td>\n",
       "      <td>0.0</td>\n",
       "      <td>1.0</td>\n",
       "      <td>3.0</td>\n",
       "      <td>4.0</td>\n",
       "      <td>1.0</td>\n",
       "      <td>1.0</td>\n",
       "      <td>2.0</td>\n",
       "      <td>2.0</td>\n",
       "      <td>1.0</td>\n",
       "      <td>2.0</td>\n",
       "      <td>1.0</td>\n",
       "    </tr>\n",
       "    <tr>\n",
       "      <th>...</th>\n",
       "      <td>...</td>\n",
       "      <td>...</td>\n",
       "      <td>...</td>\n",
       "      <td>...</td>\n",
       "      <td>...</td>\n",
       "      <td>...</td>\n",
       "      <td>...</td>\n",
       "      <td>...</td>\n",
       "      <td>...</td>\n",
       "      <td>...</td>\n",
       "      <td>...</td>\n",
       "      <td>...</td>\n",
       "      <td>...</td>\n",
       "      <td>...</td>\n",
       "      <td>...</td>\n",
       "      <td>...</td>\n",
       "    </tr>\n",
       "    <tr>\n",
       "      <th>47772</th>\n",
       "      <td>18.0</td>\n",
       "      <td>16.0</td>\n",
       "      <td>5.0</td>\n",
       "      <td>2.0</td>\n",
       "      <td>2.0</td>\n",
       "      <td>0.0</td>\n",
       "      <td>1.0</td>\n",
       "      <td>1.0</td>\n",
       "      <td>4.0</td>\n",
       "      <td>1.0</td>\n",
       "      <td>1.0</td>\n",
       "      <td>2.0</td>\n",
       "      <td>2.0</td>\n",
       "      <td>2.0</td>\n",
       "      <td>2.0</td>\n",
       "      <td>1.0</td>\n",
       "    </tr>\n",
       "    <tr>\n",
       "      <th>47773</th>\n",
       "      <td>15.0</td>\n",
       "      <td>11.0</td>\n",
       "      <td>5.0</td>\n",
       "      <td>2.0</td>\n",
       "      <td>2.0</td>\n",
       "      <td>7.0</td>\n",
       "      <td>1.0</td>\n",
       "      <td>1.0</td>\n",
       "      <td>0.0</td>\n",
       "      <td>1.0</td>\n",
       "      <td>1.0</td>\n",
       "      <td>2.0</td>\n",
       "      <td>2.0</td>\n",
       "      <td>2.0</td>\n",
       "      <td>1.0</td>\n",
       "      <td>1.0</td>\n",
       "    </tr>\n",
       "    <tr>\n",
       "      <th>47774</th>\n",
       "      <td>10.0</td>\n",
       "      <td>6.0</td>\n",
       "      <td>5.0</td>\n",
       "      <td>2.0</td>\n",
       "      <td>2.0</td>\n",
       "      <td>7.0</td>\n",
       "      <td>1.0</td>\n",
       "      <td>1.0</td>\n",
       "      <td>0.0</td>\n",
       "      <td>1.0</td>\n",
       "      <td>1.0</td>\n",
       "      <td>2.0</td>\n",
       "      <td>2.0</td>\n",
       "      <td>2.0</td>\n",
       "      <td>1.0</td>\n",
       "      <td>1.0</td>\n",
       "    </tr>\n",
       "    <tr>\n",
       "      <th>47775</th>\n",
       "      <td>4.0</td>\n",
       "      <td>1.0</td>\n",
       "      <td>5.0</td>\n",
       "      <td>2.0</td>\n",
       "      <td>2.0</td>\n",
       "      <td>7.0</td>\n",
       "      <td>1.0</td>\n",
       "      <td>1.0</td>\n",
       "      <td>0.0</td>\n",
       "      <td>1.0</td>\n",
       "      <td>1.0</td>\n",
       "      <td>2.0</td>\n",
       "      <td>2.0</td>\n",
       "      <td>0.0</td>\n",
       "      <td>1.0</td>\n",
       "      <td>1.0</td>\n",
       "    </tr>\n",
       "    <tr>\n",
       "      <th>47776</th>\n",
       "      <td>62.0</td>\n",
       "      <td>16.0</td>\n",
       "      <td>3.0</td>\n",
       "      <td>0.0</td>\n",
       "      <td>1.0</td>\n",
       "      <td>0.0</td>\n",
       "      <td>1.0</td>\n",
       "      <td>1.0</td>\n",
       "      <td>4.0</td>\n",
       "      <td>1.0</td>\n",
       "      <td>1.0</td>\n",
       "      <td>2.0</td>\n",
       "      <td>2.0</td>\n",
       "      <td>2.0</td>\n",
       "      <td>1.0</td>\n",
       "      <td>1.0</td>\n",
       "    </tr>\n",
       "  </tbody>\n",
       "</table>\n",
       "<p>47777 rows × 16 columns</p>\n",
       "</div>"
      ],
      "text/plain": [
       "       AGEP  SCHL  MAR  RELP  DIS  ESP  CIT  MIG  MIL  ANC  NATIVITY  DEAR  \\\n",
       "0      19.0  18.0  5.0  17.0  2.0  0.0  1.0  3.0  4.0  1.0       1.0   2.0   \n",
       "1      18.0  18.0  5.0  17.0  2.0  0.0  1.0  3.0  4.0  1.0       1.0   2.0   \n",
       "2      53.0  17.0  5.0  16.0  1.0  0.0  1.0  1.0  4.0  2.0       1.0   2.0   \n",
       "3      28.0  19.0  5.0  16.0  2.0  0.0  1.0  1.0  2.0  1.0       1.0   2.0   \n",
       "4      25.0  12.0  5.0  16.0  1.0  0.0  1.0  3.0  4.0  1.0       1.0   2.0   \n",
       "...     ...   ...  ...   ...  ...  ...  ...  ...  ...  ...       ...   ...   \n",
       "47772  18.0  16.0  5.0   2.0  2.0  0.0  1.0  1.0  4.0  1.0       1.0   2.0   \n",
       "47773  15.0  11.0  5.0   2.0  2.0  7.0  1.0  1.0  0.0  1.0       1.0   2.0   \n",
       "47774  10.0   6.0  5.0   2.0  2.0  7.0  1.0  1.0  0.0  1.0       1.0   2.0   \n",
       "47775   4.0   1.0  5.0   2.0  2.0  7.0  1.0  1.0  0.0  1.0       1.0   2.0   \n",
       "47776  62.0  16.0  3.0   0.0  1.0  0.0  1.0  1.0  4.0  1.0       1.0   2.0   \n",
       "\n",
       "       DEYE  DREM  SEX  RAC1P  \n",
       "0       2.0   2.0  2.0    1.0  \n",
       "1       2.0   2.0  2.0    2.0  \n",
       "2       2.0   1.0  1.0    1.0  \n",
       "3       2.0   2.0  1.0    1.0  \n",
       "4       2.0   1.0  2.0    1.0  \n",
       "...     ...   ...  ...    ...  \n",
       "47772   2.0   2.0  2.0    1.0  \n",
       "47773   2.0   2.0  1.0    1.0  \n",
       "47774   2.0   2.0  1.0    1.0  \n",
       "47775   2.0   0.0  1.0    1.0  \n",
       "47776   2.0   2.0  1.0    1.0  \n",
       "\n",
       "[47777 rows x 16 columns]"
      ]
     },
     "execution_count": 9,
     "metadata": {},
     "output_type": "execute_result"
    }
   ],
   "source": [
    "features"
   ]
  },
  {
   "cell_type": "code",
   "execution_count": 10,
   "metadata": {},
   "outputs": [
    {
     "data": {
      "text/html": [
       "<div>\n",
       "<style scoped>\n",
       "    .dataframe tbody tr th:only-of-type {\n",
       "        vertical-align: middle;\n",
       "    }\n",
       "\n",
       "    .dataframe tbody tr th {\n",
       "        vertical-align: top;\n",
       "    }\n",
       "\n",
       "    .dataframe thead th {\n",
       "        text-align: right;\n",
       "    }\n",
       "</style>\n",
       "<table border=\"1\" class=\"dataframe\">\n",
       "  <thead>\n",
       "    <tr style=\"text-align: right;\">\n",
       "      <th></th>\n",
       "      <th>ESR</th>\n",
       "    </tr>\n",
       "  </thead>\n",
       "  <tbody>\n",
       "    <tr>\n",
       "      <th>0</th>\n",
       "      <td>False</td>\n",
       "    </tr>\n",
       "    <tr>\n",
       "      <th>1</th>\n",
       "      <td>False</td>\n",
       "    </tr>\n",
       "    <tr>\n",
       "      <th>2</th>\n",
       "      <td>False</td>\n",
       "    </tr>\n",
       "    <tr>\n",
       "      <th>3</th>\n",
       "      <td>False</td>\n",
       "    </tr>\n",
       "    <tr>\n",
       "      <th>4</th>\n",
       "      <td>False</td>\n",
       "    </tr>\n",
       "    <tr>\n",
       "      <th>...</th>\n",
       "      <td>...</td>\n",
       "    </tr>\n",
       "    <tr>\n",
       "      <th>47772</th>\n",
       "      <td>True</td>\n",
       "    </tr>\n",
       "    <tr>\n",
       "      <th>47773</th>\n",
       "      <td>False</td>\n",
       "    </tr>\n",
       "    <tr>\n",
       "      <th>47774</th>\n",
       "      <td>False</td>\n",
       "    </tr>\n",
       "    <tr>\n",
       "      <th>47775</th>\n",
       "      <td>False</td>\n",
       "    </tr>\n",
       "    <tr>\n",
       "      <th>47776</th>\n",
       "      <td>False</td>\n",
       "    </tr>\n",
       "  </tbody>\n",
       "</table>\n",
       "<p>47777 rows × 1 columns</p>\n",
       "</div>"
      ],
      "text/plain": [
       "         ESR\n",
       "0      False\n",
       "1      False\n",
       "2      False\n",
       "3      False\n",
       "4      False\n",
       "...      ...\n",
       "47772   True\n",
       "47773  False\n",
       "47774  False\n",
       "47775  False\n",
       "47776  False\n",
       "\n",
       "[47777 rows x 1 columns]"
      ]
     },
     "execution_count": 10,
     "metadata": {},
     "output_type": "execute_result"
    }
   ],
   "source": [
    "label"
   ]
  },
  {
   "cell_type": "code",
   "execution_count": null,
   "metadata": {},
   "outputs": [],
   "source": []
  },
  {
   "cell_type": "code",
   "execution_count": 11,
   "metadata": {},
   "outputs": [
    {
     "data": {
      "text/html": [
       "<div>\n",
       "<style scoped>\n",
       "    .dataframe tbody tr th:only-of-type {\n",
       "        vertical-align: middle;\n",
       "    }\n",
       "\n",
       "    .dataframe tbody tr th {\n",
       "        vertical-align: top;\n",
       "    }\n",
       "\n",
       "    .dataframe thead th {\n",
       "        text-align: right;\n",
       "    }\n",
       "</style>\n",
       "<table border=\"1\" class=\"dataframe\">\n",
       "  <thead>\n",
       "    <tr style=\"text-align: right;\">\n",
       "      <th></th>\n",
       "      <th>AGEP</th>\n",
       "      <th>SCHL</th>\n",
       "      <th>MAR</th>\n",
       "      <th>RELP</th>\n",
       "      <th>DIS</th>\n",
       "      <th>ESP</th>\n",
       "      <th>CIT</th>\n",
       "      <th>MIG</th>\n",
       "      <th>MIL</th>\n",
       "      <th>ANC</th>\n",
       "      <th>NATIVITY</th>\n",
       "      <th>DEAR</th>\n",
       "      <th>DEYE</th>\n",
       "      <th>DREM</th>\n",
       "      <th>SEX</th>\n",
       "      <th>RAC1P</th>\n",
       "      <th>ESR</th>\n",
       "    </tr>\n",
       "  </thead>\n",
       "  <tbody>\n",
       "    <tr>\n",
       "      <th>0</th>\n",
       "      <td>19.0</td>\n",
       "      <td>18.0</td>\n",
       "      <td>5.0</td>\n",
       "      <td>17.0</td>\n",
       "      <td>2.0</td>\n",
       "      <td>0.0</td>\n",
       "      <td>1.0</td>\n",
       "      <td>3.0</td>\n",
       "      <td>4.0</td>\n",
       "      <td>1.0</td>\n",
       "      <td>1.0</td>\n",
       "      <td>2.0</td>\n",
       "      <td>2.0</td>\n",
       "      <td>2.0</td>\n",
       "      <td>2.0</td>\n",
       "      <td>1.0</td>\n",
       "      <td>False</td>\n",
       "    </tr>\n",
       "    <tr>\n",
       "      <th>1</th>\n",
       "      <td>18.0</td>\n",
       "      <td>18.0</td>\n",
       "      <td>5.0</td>\n",
       "      <td>17.0</td>\n",
       "      <td>2.0</td>\n",
       "      <td>0.0</td>\n",
       "      <td>1.0</td>\n",
       "      <td>3.0</td>\n",
       "      <td>4.0</td>\n",
       "      <td>1.0</td>\n",
       "      <td>1.0</td>\n",
       "      <td>2.0</td>\n",
       "      <td>2.0</td>\n",
       "      <td>2.0</td>\n",
       "      <td>2.0</td>\n",
       "      <td>2.0</td>\n",
       "      <td>False</td>\n",
       "    </tr>\n",
       "    <tr>\n",
       "      <th>2</th>\n",
       "      <td>53.0</td>\n",
       "      <td>17.0</td>\n",
       "      <td>5.0</td>\n",
       "      <td>16.0</td>\n",
       "      <td>1.0</td>\n",
       "      <td>0.0</td>\n",
       "      <td>1.0</td>\n",
       "      <td>1.0</td>\n",
       "      <td>4.0</td>\n",
       "      <td>2.0</td>\n",
       "      <td>1.0</td>\n",
       "      <td>2.0</td>\n",
       "      <td>2.0</td>\n",
       "      <td>1.0</td>\n",
       "      <td>1.0</td>\n",
       "      <td>1.0</td>\n",
       "      <td>False</td>\n",
       "    </tr>\n",
       "    <tr>\n",
       "      <th>3</th>\n",
       "      <td>28.0</td>\n",
       "      <td>19.0</td>\n",
       "      <td>5.0</td>\n",
       "      <td>16.0</td>\n",
       "      <td>2.0</td>\n",
       "      <td>0.0</td>\n",
       "      <td>1.0</td>\n",
       "      <td>1.0</td>\n",
       "      <td>2.0</td>\n",
       "      <td>1.0</td>\n",
       "      <td>1.0</td>\n",
       "      <td>2.0</td>\n",
       "      <td>2.0</td>\n",
       "      <td>2.0</td>\n",
       "      <td>1.0</td>\n",
       "      <td>1.0</td>\n",
       "      <td>False</td>\n",
       "    </tr>\n",
       "    <tr>\n",
       "      <th>4</th>\n",
       "      <td>25.0</td>\n",
       "      <td>12.0</td>\n",
       "      <td>5.0</td>\n",
       "      <td>16.0</td>\n",
       "      <td>1.0</td>\n",
       "      <td>0.0</td>\n",
       "      <td>1.0</td>\n",
       "      <td>3.0</td>\n",
       "      <td>4.0</td>\n",
       "      <td>1.0</td>\n",
       "      <td>1.0</td>\n",
       "      <td>2.0</td>\n",
       "      <td>2.0</td>\n",
       "      <td>1.0</td>\n",
       "      <td>2.0</td>\n",
       "      <td>1.0</td>\n",
       "      <td>False</td>\n",
       "    </tr>\n",
       "  </tbody>\n",
       "</table>\n",
       "</div>"
      ],
      "text/plain": [
       "   AGEP  SCHL  MAR  RELP  DIS  ESP  CIT  MIG  MIL  ANC  NATIVITY  DEAR  DEYE  \\\n",
       "0  19.0  18.0  5.0  17.0  2.0  0.0  1.0  3.0  4.0  1.0       1.0   2.0   2.0   \n",
       "1  18.0  18.0  5.0  17.0  2.0  0.0  1.0  3.0  4.0  1.0       1.0   2.0   2.0   \n",
       "2  53.0  17.0  5.0  16.0  1.0  0.0  1.0  1.0  4.0  2.0       1.0   2.0   2.0   \n",
       "3  28.0  19.0  5.0  16.0  2.0  0.0  1.0  1.0  2.0  1.0       1.0   2.0   2.0   \n",
       "4  25.0  12.0  5.0  16.0  1.0  0.0  1.0  3.0  4.0  1.0       1.0   2.0   2.0   \n",
       "\n",
       "   DREM  SEX  RAC1P    ESR  \n",
       "0   2.0  2.0    1.0  False  \n",
       "1   2.0  2.0    2.0  False  \n",
       "2   1.0  1.0    1.0  False  \n",
       "3   2.0  1.0    1.0  False  \n",
       "4   1.0  2.0    1.0  False  "
      ]
     },
     "execution_count": 11,
     "metadata": {},
     "output_type": "execute_result"
    }
   ],
   "source": [
    "merged_df=pd.concat([features, label], axis=1)\n",
    "merged_df.head()"
   ]
  },
  {
   "cell_type": "code",
   "execution_count": 12,
   "metadata": {},
   "outputs": [
    {
     "data": {
      "text/plain": [
       "47777"
      ]
     },
     "execution_count": 12,
     "metadata": {},
     "output_type": "execute_result"
    }
   ],
   "source": [
    "len(merged_df)"
   ]
  },
  {
   "cell_type": "code",
   "execution_count": 13,
   "metadata": {},
   "outputs": [
    {
     "data": {
      "text/plain": [
       "RAC1P\n",
       "1        35551\n",
       "2        10115\n",
       "9          835\n",
       "6          556\n",
       "8          491\n",
       "3          182\n",
       "5           33\n",
       "7           13\n",
       "4            1\n",
       "dtype: int64"
      ]
     },
     "execution_count": 13,
     "metadata": {},
     "output_type": "execute_result"
    }
   ],
   "source": [
    "group.value_counts()"
   ]
  },
  {
   "cell_type": "code",
   "execution_count": 14,
   "metadata": {},
   "outputs": [
    {
     "data": {
      "text/plain": [
       "1.0    35551\n",
       "2.0    10115\n",
       "9.0      835\n",
       "6.0      556\n",
       "8.0      491\n",
       "3.0      182\n",
       "5.0       33\n",
       "7.0       13\n",
       "4.0        1\n",
       "Name: RAC1P, dtype: int64"
      ]
     },
     "execution_count": 14,
     "metadata": {},
     "output_type": "execute_result"
    }
   ],
   "source": [
    "merged_df[\"RAC1P\"].value_counts()\n",
    "\n",
    "# 1: White alone – 2: Black or African American alone"
   ]
  },
  {
   "cell_type": "code",
   "execution_count": 15,
   "metadata": {},
   "outputs": [
    {
     "data": {
      "text/plain": [
       "array([1., 2., 8., 9., 6., 3., 5., 7., 4.])"
      ]
     },
     "execution_count": 15,
     "metadata": {},
     "output_type": "execute_result"
    }
   ],
   "source": [
    "pd.unique(merged_df[\"RAC1P\"])"
   ]
  },
  {
   "cell_type": "code",
   "execution_count": 16,
   "metadata": {
    "scrolled": false
   },
   "outputs": [
    {
     "data": {
      "text/html": [
       "<div>\n",
       "<style scoped>\n",
       "    .dataframe tbody tr th:only-of-type {\n",
       "        vertical-align: middle;\n",
       "    }\n",
       "\n",
       "    .dataframe tbody tr th {\n",
       "        vertical-align: top;\n",
       "    }\n",
       "\n",
       "    .dataframe thead th {\n",
       "        text-align: right;\n",
       "    }\n",
       "</style>\n",
       "<table border=\"1\" class=\"dataframe\">\n",
       "  <thead>\n",
       "    <tr style=\"text-align: right;\">\n",
       "      <th></th>\n",
       "      <th>SEX</th>\n",
       "      <th>RAC1P</th>\n",
       "      <th>ESR</th>\n",
       "    </tr>\n",
       "  </thead>\n",
       "  <tbody>\n",
       "    <tr>\n",
       "      <th>0</th>\n",
       "      <td>2.0</td>\n",
       "      <td>1.0</td>\n",
       "      <td>False</td>\n",
       "    </tr>\n",
       "    <tr>\n",
       "      <th>1</th>\n",
       "      <td>2.0</td>\n",
       "      <td>2.0</td>\n",
       "      <td>False</td>\n",
       "    </tr>\n",
       "    <tr>\n",
       "      <th>2</th>\n",
       "      <td>1.0</td>\n",
       "      <td>1.0</td>\n",
       "      <td>False</td>\n",
       "    </tr>\n",
       "    <tr>\n",
       "      <th>3</th>\n",
       "      <td>1.0</td>\n",
       "      <td>1.0</td>\n",
       "      <td>False</td>\n",
       "    </tr>\n",
       "    <tr>\n",
       "      <th>4</th>\n",
       "      <td>2.0</td>\n",
       "      <td>1.0</td>\n",
       "      <td>False</td>\n",
       "    </tr>\n",
       "  </tbody>\n",
       "</table>\n",
       "</div>"
      ],
      "text/plain": [
       "   SEX  RAC1P    ESR\n",
       "0  2.0    1.0  False\n",
       "1  2.0    2.0  False\n",
       "2  1.0    1.0  False\n",
       "3  1.0    1.0  False\n",
       "4  2.0    1.0  False"
      ]
     },
     "execution_count": 16,
     "metadata": {},
     "output_type": "execute_result"
    }
   ],
   "source": [
    "#  for Black and white people\n",
    "filtered_df= merged_df[[\"SEX\",\"RAC1P\",\"ESR\"]][merged_df['RAC1P'].isin([1,2])]\n",
    "filtered_df.head() "
   ]
  },
  {
   "cell_type": "code",
   "execution_count": 17,
   "metadata": {},
   "outputs": [
    {
     "name": "stdout",
     "output_type": "stream",
     "text": [
      "len(filtered_df):  45666\n"
     ]
    }
   ],
   "source": [
    "print(\"len(filtered_df): \", len(filtered_df))"
   ]
  },
  {
   "cell_type": "code",
   "execution_count": 18,
   "metadata": {},
   "outputs": [
    {
     "name": "stdout",
     "output_type": "stream",
     "text": [
      "False    26881\n",
      "True     18785\n",
      "Name: ESR, dtype: int64 \n",
      "\n",
      "2.0    23737\n",
      "1.0    21929\n",
      "Name: SEX, dtype: int64 \n",
      "\n",
      "1.0    35551\n",
      "2.0    10115\n",
      "Name: RAC1P, dtype: int64 \n",
      "\n"
     ]
    }
   ],
   "source": [
    "print(filtered_df[\"ESR\"].value_counts(),\"\\n\")\n",
    "print(filtered_df[\"SEX\"].value_counts(),\"\\n\")\n",
    "print(filtered_df[\"RAC1P\"].value_counts(),\"\\n\")"
   ]
  },
  {
   "cell_type": "code",
   "execution_count": 19,
   "metadata": {},
   "outputs": [
    {
     "data": {
      "text/plain": [
       "SEX  RAC1P\n",
       "1.0  1.0      17309\n",
       "     2.0       4620\n",
       "2.0  1.0      18242\n",
       "     2.0       5495\n",
       "dtype: int64"
      ]
     },
     "execution_count": 19,
     "metadata": {},
     "output_type": "execute_result"
    }
   ],
   "source": [
    "counts_frq = filtered_df.groupby(['SEX', 'RAC1P']).size()\n",
    "\n",
    "# 1- Male 2- Female\n",
    "# 1- White 2-Black\n",
    "\n",
    "counts_frq"
   ]
  },
  {
   "cell_type": "code",
   "execution_count": null,
   "metadata": {},
   "outputs": [],
   "source": []
  },
  {
   "cell_type": "markdown",
   "metadata": {},
   "source": [
    "# Balanced Dataset"
   ]
  },
  {
   "cell_type": "code",
   "execution_count": 20,
   "metadata": {},
   "outputs": [],
   "source": [
    "\n",
    "# balanced_df=filtered_df.groupby('RAC1P').apply(lambda x: x.sample(10115))\n",
    "# balanced_df=balanced_df.reset_index(drop=True)\n",
    "\n",
    "# # change the labels\n",
    "# balanced_df[\"ESR\"].replace({False: 0, True: 1}, inplace = True)\n",
    "\n",
    "\n",
    "# print(balanced_df[\"ESR\"].value_counts(),\"\\n\")\n",
    "# print(balanced_df[\"SEX\"].value_counts(),\"\\n\")\n",
    "# print(balanced_df[\"RAC1P\"].value_counts(),\"\\n\")\n",
    "# counts = balanced_df.groupby(['SEX', 'RAC1P']).size()\n",
    "# print(counts)"
   ]
  },
  {
   "cell_type": "code",
   "execution_count": null,
   "metadata": {
    "scrolled": true
   },
   "outputs": [],
   "source": []
  },
  {
   "cell_type": "code",
   "execution_count": null,
   "metadata": {},
   "outputs": [],
   "source": []
  },
  {
   "cell_type": "code",
   "execution_count": 21,
   "metadata": {},
   "outputs": [],
   "source": [
    "import torch\n",
    "import torch.nn as nn\n",
    "import torch.optim as optim\n",
    "from sklearn.preprocessing import LabelEncoder\n",
    "from sklearn.model_selection import train_test_split"
   ]
  },
  {
   "cell_type": "code",
   "execution_count": null,
   "metadata": {},
   "outputs": [],
   "source": []
  },
  {
   "cell_type": "code",
   "execution_count": 22,
   "metadata": {},
   "outputs": [
    {
     "data": {
      "text/plain": [
       "SEX  RAC1P\n",
       "1.0  1.0      17309\n",
       "     2.0       4620\n",
       "2.0  1.0      18242\n",
       "     2.0       5495\n",
       "dtype: int64"
      ]
     },
     "execution_count": 22,
     "metadata": {},
     "output_type": "execute_result"
    }
   ],
   "source": [
    "counts_frq = filtered_df.groupby(['SEX', 'RAC1P']).size()\n",
    "counts_frq"
   ]
  },
  {
   "cell_type": "raw",
   "metadata": {},
   "source": [
    "G1: train set: White men+black men+Black women—- validation set: black men\n",
    "\n",
    "G2: train: White women+black women+black men—- validation set: black women\n",
    "\n",
    "G3: train: black men+white men+white women+validation set: white men\n",
    "\n",
    "G4: train: white women+white men+black women, validation set: white women"
   ]
  },
  {
   "cell_type": "code",
   "execution_count": 23,
   "metadata": {},
   "outputs": [],
   "source": [
    "# # filter the dataframe for each combination\n",
    "\n",
    "#White Men\n",
    "WM = filtered_df.loc[(filtered_df['SEX'] == 1) & (filtered_df['RAC1P'] == 1)]\n",
    "#Black Men\n",
    "BM = filtered_df.loc[(filtered_df['SEX'] == 1) & (filtered_df['RAC1P'] == 2)]\n",
    "#white Women\n",
    "WW = filtered_df.loc[(filtered_df['SEX'] == 2) & (filtered_df['RAC1P'] == 1)]\n",
    "#Black Women\n",
    "BW = filtered_df.loc[(filtered_df['SEX'] == 2) & (filtered_df['RAC1P'] == 2)]"
   ]
  },
  {
   "cell_type": "code",
   "execution_count": null,
   "metadata": {},
   "outputs": [],
   "source": []
  },
  {
   "cell_type": "code",
   "execution_count": 24,
   "metadata": {},
   "outputs": [],
   "source": [
    "#Group-1\n",
    "#Train set: White men+black men+Black women—- validation set: black men\n",
    "WM_BM_BW_train = pd.concat([WM,BM,BW])\n",
    "BM_validation=BM.copy()\n",
    "\n",
    "#Group-2\n",
    "#Train set: White women+black women+black men—- validation set: black women\n",
    "WW_BW_BM_train=pd.concat([WW,BW,BM])\n",
    "BW_validation=BW.copy()\n",
    "\n",
    "#Group-3\n",
    "#Train set: black men+white men+white women+validation set: white men\n",
    "BM_WM_WW_train=pd.concat([BM,WM,WW])\n",
    "WM_validation=WM.copy()\n",
    "\n",
    "#Group-4\n",
    "#Train set: white women+white men+black women, validation set: white women\n",
    "WW_WM_BW_train=pd.concat([WW,WM,BW])\n",
    "WW_validation=WW.copy()"
   ]
  },
  {
   "cell_type": "code",
   "execution_count": null,
   "metadata": {},
   "outputs": [],
   "source": []
  },
  {
   "cell_type": "code",
   "execution_count": 25,
   "metadata": {},
   "outputs": [
    {
     "name": "stdout",
     "output_type": "stream",
     "text": [
      "BM_WM_WW_train:  27424 RAC:  [1. 2.] SEX:  [1. 2.]\n",
      "BM_WM_WW_train:  28357 RAC:  [1. 2.] SEX:  [2. 1.]\n",
      "BM_WM_WW_train:  40171 RAC:  [2. 1.] SEX:  [1. 2.]\n",
      "BM_WM_WW_train:  41046 RAC:  [1. 2.] SEX:  [2. 1.]\n"
     ]
    }
   ],
   "source": [
    "name_print= \"BM_WM_WW_train: \"\n",
    "\n",
    "print(name_print,len(WM_BM_BW_train),\"RAC: \", pd.unique(WM_BM_BW_train['RAC1P']),\"SEX: \", pd.unique(WM_BM_BW_train['SEX']))\n",
    "print(name_print,len(WW_BW_BM_train),\"RAC: \", pd.unique(WW_BW_BM_train['RAC1P']),\"SEX: \", pd.unique(WW_BW_BM_train['SEX']))\n",
    "print(name_print,len(BM_WM_WW_train),\"RAC: \", pd.unique(BM_WM_WW_train['RAC1P']),\"SEX: \", pd.unique(BM_WM_WW_train['SEX']))\n",
    "print(name_print,len(WW_WM_BW_train),\"RAC: \", pd.unique(WW_WM_BW_train['RAC1P']),\"SEX: \", pd.unique(WW_WM_BW_train['SEX']))"
   ]
  },
  {
   "cell_type": "code",
   "execution_count": 26,
   "metadata": {},
   "outputs": [
    {
     "name": "stdout",
     "output_type": "stream",
     "text": [
      "BM_validation:  4620 RAC:  [2.] SEX:  [1.]\n",
      "BM_validation:  5495 RAC:  [2.] SEX:  [2.]\n",
      "BM_validation:  17309 RAC:  [1.] SEX:  [1.]\n",
      "BM_validation:  18242 RAC:  [1.] SEX:  [2.]\n"
     ]
    }
   ],
   "source": [
    "name_val=\"BM_validation: \"\n",
    "\n",
    "print(name_val ,len(BM_validation),\"RAC: \", pd.unique(BM_validation['RAC1P']),\"SEX: \", pd.unique(BM_validation['SEX']))\n",
    "print(name_val ,len(BW_validation),\"RAC: \", pd.unique(BW_validation['RAC1P']),\"SEX: \", pd.unique(BW_validation['SEX']))\n",
    "print(name_val ,len(WM_validation),\"RAC: \", pd.unique(WM_validation['RAC1P']),\"SEX: \", pd.unique(WM_validation['SEX']))\n",
    "print(name_val ,len(WW_validation),\"RAC: \", pd.unique(WW_validation['RAC1P']),\"SEX: \", pd.unique(WW_validation['SEX']))"
   ]
  },
  {
   "cell_type": "code",
   "execution_count": 27,
   "metadata": {},
   "outputs": [
    {
     "name": "stdout",
     "output_type": "stream",
     "text": [
      "len(X_train),len(y_train), len(X_val),len(y_val):  27424 27424 4620 4620\n",
      "X_train.shape, y_train.shape  torch.Size([27424, 2]) torch.Size([27424]) \n",
      "\n",
      "X_valid.shape, y_valid.shape  torch.Size([4620, 2]) torch.Size([4620]) \n",
      "\n"
     ]
    },
    {
     "data": {
      "text/plain": [
       "tensor([[1., 1.],\n",
       "        [1., 1.],\n",
       "        [1., 1.],\n",
       "        ...,\n",
       "        [2., 2.],\n",
       "        [2., 2.],\n",
       "        [2., 2.]])"
      ]
     },
     "execution_count": 27,
     "metadata": {},
     "output_type": "execute_result"
    }
   ],
   "source": [
    "data_to_use_train= WM_BM_BW_train\n",
    "data_to_use_val= BM_validation\n",
    "\n",
    "\n",
    "X_train= data_to_use_train[['SEX', 'RAC1P']]\n",
    "y_train= data_to_use_train[['ESR']]\n",
    "\n",
    "X_train = torch.from_numpy(X_train.to_numpy()).float()\n",
    "y_train = torch.squeeze(torch.from_numpy(y_train.to_numpy()).float())\n",
    "\n",
    "X_valid = data_to_use_val[['SEX', 'RAC1P']]\n",
    "y_valid = data_to_use_val[['ESR']]\n",
    "\n",
    "X_valid = torch.from_numpy(X_valid.to_numpy()).float()\n",
    "y_valid = torch.squeeze(torch.from_numpy(y_valid.to_numpy()).float())\n",
    "\n",
    "y_train_onehot = torch.nn.functional.one_hot(y_train.long())\n",
    "y_val_onehot = torch.nn.functional.one_hot(y_valid.long())\n",
    "\n",
    "\n",
    "# X_train, X_valid, y_train, y_valid = train_test_split(X, y, test_size=0.2)\n",
    "print(\"len(X_train),len(y_train), len(X_val),len(y_val): \",len(X_train),len(y_train), len(X_valid),len(y_valid))\n",
    "\n",
    "\n",
    "print(\"X_train.shape, y_train.shape \",X_train.shape, y_train.shape,\"\\n\")\n",
    "print(\"X_valid.shape, y_valid.shape \",X_valid.shape, y_valid.shape,\"\\n\")\n",
    "\n",
    "X_train"
   ]
  },
  {
   "cell_type": "code",
   "execution_count": null,
   "metadata": {},
   "outputs": [],
   "source": []
  },
  {
   "cell_type": "code",
   "execution_count": 28,
   "metadata": {},
   "outputs": [],
   "source": [
    "import torch\n",
    "import torch.nn as nn\n",
    "from torchvision import models\n",
    "from torchsummary import summary\n",
    "from torch.utils.data import Dataset, DataLoader\n"
   ]
  },
  {
   "cell_type": "code",
   "execution_count": 29,
   "metadata": {},
   "outputs": [
    {
     "data": {
      "text/plain": [
       "(torch.Size([27424, 2]), 2)"
      ]
     },
     "execution_count": 29,
     "metadata": {},
     "output_type": "execute_result"
    }
   ],
   "source": [
    "X_train.shape,X_train.shape[1]"
   ]
  },
  {
   "cell_type": "code",
   "execution_count": null,
   "metadata": {},
   "outputs": [],
   "source": []
  },
  {
   "cell_type": "code",
   "execution_count": 30,
   "metadata": {},
   "outputs": [
    {
     "data": {
      "text/plain": [
       "tensor([[0.0549, 0.0486],\n",
       "        [0.0549, 0.0486],\n",
       "        [0.0549, 0.0486],\n",
       "        ...,\n",
       "        [0.1099, 0.0972],\n",
       "        [0.1099, 0.0972],\n",
       "        [0.1099, 0.0972]])"
      ]
     },
     "execution_count": 30,
     "metadata": {},
     "output_type": "execute_result"
    }
   ],
   "source": [
    "import torch\n",
    "import torch.nn.functional as F\n",
    "\n",
    "# x_train = torch.tensor(X_train)\n",
    "# x_train_normalized = F.normalize(X_train, p=4, dim=0)\n",
    "\n",
    "X_train=F.normalize(X_train, p=4, dim=0)\n",
    "X_train"
   ]
  },
  {
   "cell_type": "code",
   "execution_count": null,
   "metadata": {},
   "outputs": [],
   "source": [
    "\n"
   ]
  },
  {
   "cell_type": "code",
   "execution_count": 31,
   "metadata": {},
   "outputs": [
    {
     "name": "stdout",
     "output_type": "stream",
     "text": [
      "Net(\n",
      "  (fc1): Linear(in_features=2, out_features=512, bias=True)\n",
      "  (fc2): Linear(in_features=512, out_features=256, bias=True)\n",
      "  (fc3): Linear(in_features=256, out_features=128, bias=True)\n",
      "  (fc4): Linear(in_features=128, out_features=64, bias=True)\n",
      "  (fc5): Linear(in_features=64, out_features=2, bias=True)\n",
      "  (sigmoid): Sigmoid()\n",
      ")\n"
     ]
    }
   ],
   "source": [
    "# 4 depth with e.g 512,256,128, output shape\n",
    "# Convert y_train to one-hot encoded tensor\n",
    "# y_train_onehot = torch.nn.functional.one_hot(y_train)\n",
    "\n",
    "\n",
    "class Net(nn.Module):\n",
    "    def __init__(self, input_size):\n",
    "        super(Net, self).__init__()\n",
    "        self.fc1 = nn.Linear(input_size, 512)\n",
    "        self.fc2 = nn.Linear(512, 256)\n",
    "        self.fc3 = nn.Linear(256, 128)\n",
    "        self.fc4 = nn.Linear(128,64)\n",
    "        self.fc5 = nn.Linear(64, 2)\n",
    "        self.sigmoid = nn.Sigmoid()\n",
    "\n",
    "    def forward(self, x):\n",
    "        x = torch.relu(self.fc1(x))\n",
    "        x = torch.relu(self.fc2(x))\n",
    "        x = torch.relu(self.fc3(x))\n",
    "        x = torch.relu(self.fc4(x))\n",
    "        x = self.fc5(x)\n",
    "        x = self.sigmoid(x)\n",
    "        return x\n",
    "    \n",
    "# net = Net()\n",
    "net = Net(input_size=X_train.shape[1])\n",
    "\n",
    "criterion = nn.BCEWithLogitsLoss()\n",
    "# criterion = nn.BCELoss()\n",
    "\n",
    "optimizer = torch.optim.Adam(net.parameters(), lr=0.001)\n",
    "\n",
    "\n",
    "\n",
    "model = Net(input_size=X_train.shape[1])\n",
    "print(model)\n",
    "\n",
    "\n"
   ]
  },
  {
   "cell_type": "code",
   "execution_count": 32,
   "metadata": {},
   "outputs": [
    {
     "data": {
      "text/plain": [
       "tensor([[0.0549, 0.0486],\n",
       "        [0.0549, 0.0486],\n",
       "        [0.0549, 0.0486],\n",
       "        ...,\n",
       "        [0.1099, 0.0972],\n",
       "        [0.1099, 0.0972],\n",
       "        [0.1099, 0.0972]])"
      ]
     },
     "execution_count": 32,
     "metadata": {},
     "output_type": "execute_result"
    }
   ],
   "source": [
    "X_train"
   ]
  },
  {
   "cell_type": "code",
   "execution_count": 33,
   "metadata": {},
   "outputs": [
    {
     "name": "stdout",
     "output_type": "stream",
     "text": [
      "Epoch [1/10], Training Loss: 0.6887, Training Accuracy: 0.5671, Validation Loss: 0.6829, Validation Accuracy: 0.6444\n",
      "Epoch [2/10], Training Loss: 0.6893, Training Accuracy: 0.5671, Validation Loss: 0.6770, Validation Accuracy: 0.6444\n",
      "Epoch [3/10], Training Loss: 0.6887, Training Accuracy: 0.5671, Validation Loss: 0.6808, Validation Accuracy: 0.6444\n",
      "Epoch [4/10], Training Loss: 0.6887, Training Accuracy: 0.5671, Validation Loss: 0.6798, Validation Accuracy: 0.6444\n",
      "Epoch [5/10], Training Loss: 0.6888, Training Accuracy: 0.5671, Validation Loss: 0.6770, Validation Accuracy: 0.6444\n",
      "Epoch [6/10], Training Loss: 0.6886, Training Accuracy: 0.5671, Validation Loss: 0.6781, Validation Accuracy: 0.6444\n",
      "Epoch [7/10], Training Loss: 0.6886, Training Accuracy: 0.5671, Validation Loss: 0.6774, Validation Accuracy: 0.6444\n",
      "Epoch [8/10], Training Loss: 0.6885, Training Accuracy: 0.5671, Validation Loss: 0.6738, Validation Accuracy: 0.6444\n",
      "Epoch [9/10], Training Loss: 0.6888, Training Accuracy: 0.5671, Validation Loss: 0.6744, Validation Accuracy: 0.6444\n",
      "Epoch [10/10], Training Loss: 0.6887, Training Accuracy: 0.5671, Validation Loss: 0.6824, Validation Accuracy: 0.6444\n"
     ]
    }
   ],
   "source": [
    "# Train network\n",
    "batch_size = 1000\n",
    "num_epoch=10\n",
    "\n",
    "# Working\n",
    "for epoch in range(num_epoch):\n",
    "    \n",
    "    indices = torch.randperm(X_train.shape[0])\n",
    "    for i in range(0, X_train.shape[0], batch_size):\n",
    "        batch_indices = indices[i:i+batch_size]\n",
    "        batch_X = X_train[batch_indices]\n",
    "        batch_y = y_train_onehot[batch_indices]\n",
    "        \n",
    "        # Forward pass and loss calculation\n",
    "        optimizer.zero_grad()\n",
    "        outputs = net(batch_X.float())\n",
    "        loss = criterion(outputs, batch_y.float())\n",
    "        \n",
    "        # Backward pass and parameter updates\n",
    "        loss.backward()\n",
    "        optimizer.step()\n",
    "\n",
    "    \n",
    "    with torch.no_grad():\n",
    "        val_outputs = net(X_valid.float())\n",
    "        val_loss = criterion(val_outputs, y_val_onehot.float())     \n",
    "        val_preds = torch.argmax(val_outputs, dim=1)\n",
    "        val_acc = (val_preds == y_valid).sum().item() / len(y_valid)\n",
    "        \n",
    "        train_outputs = net(X_train.float())\n",
    "        train_loss = criterion(train_outputs, y_train_onehot.float())\n",
    "        train_preds = torch.argmax(train_outputs, dim=1)\n",
    "        train_acc = (train_preds == y_train).sum().item() / len(y_train)\n",
    "\n",
    "    print('Epoch [{}/{}], Training Loss: {:.4f}, Training Accuracy: {:.4f}, Validation Loss: {:.4f}, Validation Accuracy: {:.4f}'.format(\n",
    "            epoch+1, num_epoch, train_loss.item(), train_acc, val_loss.item(), val_acc))\n"
   ]
  },
  {
   "cell_type": "code",
   "execution_count": null,
   "metadata": {},
   "outputs": [],
   "source": []
  },
  {
   "cell_type": "code",
   "execution_count": null,
   "metadata": {},
   "outputs": [],
   "source": []
  },
  {
   "cell_type": "code",
   "execution_count": null,
   "metadata": {},
   "outputs": [],
   "source": []
  },
  {
   "cell_type": "code",
   "execution_count": 34,
   "metadata": {},
   "outputs": [],
   "source": [
    "name_of_model='WM_BM_BW.pt'\n",
    "\n",
    "torch.save(net.state_dict(),name_of_model )\n",
    "saved_state_dict = torch.load(name_of_model)"
   ]
  },
  {
   "cell_type": "code",
   "execution_count": 35,
   "metadata": {},
   "outputs": [
    {
     "name": "stdout",
     "output_type": "stream",
     "text": [
      "==========================================================================================\n",
      "Layer (type:depth-idx)                   Output Shape              Param #\n",
      "==========================================================================================\n",
      "Net                                      [16, 2]                   --\n",
      "├─Linear: 1-1                            [16, 512]                 1,536\n",
      "├─Linear: 1-2                            [16, 256]                 131,328\n",
      "├─Linear: 1-3                            [16, 128]                 32,896\n",
      "├─Linear: 1-4                            [16, 64]                  8,256\n",
      "├─Linear: 1-5                            [16, 2]                   130\n",
      "├─Sigmoid: 1-6                           [16, 2]                   --\n",
      "==========================================================================================\n",
      "Total params: 174,146\n",
      "Trainable params: 174,146\n",
      "Non-trainable params: 0\n",
      "Total mult-adds (M): 2.79\n",
      "==========================================================================================\n",
      "Input size (MB): 0.00\n",
      "Forward/backward pass size (MB): 0.12\n",
      "Params size (MB): 0.70\n",
      "Estimated Total Size (MB): 0.82\n",
      "==========================================================================================\n"
     ]
    }
   ],
   "source": [
    " # Install torchinfo if you haven't already\n",
    "\n",
    "import torchinfo\n",
    "\n",
    "saved_state_dict = torch.load(name_of_model)\n",
    "net = Net(input_size=X_train.shape[1])\n",
    "net.load_state_dict(saved_state_dict)\n",
    "\n",
    "device = torch.device('cuda' if torch.cuda.is_available() else 'cpu')\n",
    "net.to(device)\n",
    "\n",
    "batch_size = 16  # Set batch size for the summary\n",
    "summary = torchinfo.summary(net, input_size=(batch_size, X_train.shape[1]), device=device)\n",
    "print(summary)"
   ]
  },
  {
   "cell_type": "code",
   "execution_count": null,
   "metadata": {},
   "outputs": [],
   "source": []
  },
  {
   "cell_type": "code",
   "execution_count": null,
   "metadata": {},
   "outputs": [],
   "source": []
  },
  {
   "cell_type": "markdown",
   "metadata": {},
   "source": [
    "# Testing "
   ]
  },
  {
   "cell_type": "code",
   "execution_count": 36,
   "metadata": {},
   "outputs": [],
   "source": [
    "import pandas as pd\n",
    "import numpy as np\n",
    "from folktables import ACSDataSource, ACSEmployment,ACSIncome\n",
    "import matplotlib.pyplot as plt"
   ]
  },
  {
   "cell_type": "code",
   "execution_count": 37,
   "metadata": {},
   "outputs": [
    {
     "name": "stdout",
     "output_type": "stream",
     "text": [
      "Downloading data for 2017 1-Year person survey for AL...\n"
     ]
    }
   ],
   "source": [
    "data_source_test = ACSDataSource(survey_year='2017', horizon='1-Year', survey='person')\n",
    "acs_data_test = data_source_test.get_data(states=[\"AL\"], download=True)"
   ]
  },
  {
   "cell_type": "code",
   "execution_count": 38,
   "metadata": {
    "scrolled": false
   },
   "outputs": [
    {
     "name": "stdout",
     "output_type": "stream",
     "text": [
      "   AGEP  SCHL  MAR  RELP  DIS  ESP  CIT  MIG  MIL  ANC  NATIVITY  DEAR  DEYE  \\\n",
      "0  73.0  10.0  4.0   0.0  1.0  0.0  1.0  1.0  4.0  1.0       1.0   2.0   2.0   \n",
      "1  31.0  21.0  5.0   0.0  2.0  0.0  1.0  1.0  4.0  2.0       1.0   2.0   2.0   \n",
      "2  41.0  17.0  1.0   0.0  2.0  0.0  1.0  1.0  4.0  1.0       1.0   2.0   2.0   \n",
      "3  48.0  16.0  1.0   1.0  2.0  0.0  1.0  1.0  4.0  1.0       1.0   2.0   2.0   \n",
      "4  16.0  13.0  5.0   2.0  2.0  2.0  1.0  1.0  0.0  1.0       1.0   2.0   2.0   \n",
      "\n",
      "   DREM  SEX  RAC1P  \n",
      "0   1.0  1.0    2.0  \n",
      "1   2.0  2.0    1.0  \n",
      "2   2.0  1.0    1.0  \n",
      "3   2.0  2.0    1.0  \n",
      "4   2.0  1.0    1.0   \n",
      "\n",
      " Lable: \n",
      "       ESR\n",
      "0  False\n",
      "1   True\n",
      "2   True\n",
      "3  False\n",
      "4  False\n"
     ]
    }
   ],
   "source": [
    "features_test, label_test, group_test = ACSEmployment.df_to_pandas(acs_data_test)\n",
    "print(features_test.head(),\"\\n\\n Lable: \\n \", label_test.head())"
   ]
  },
  {
   "cell_type": "code",
   "execution_count": 39,
   "metadata": {},
   "outputs": [
    {
     "data": {
      "text/plain": [
       "47645"
      ]
     },
     "execution_count": 39,
     "metadata": {},
     "output_type": "execute_result"
    }
   ],
   "source": [
    "len(features_test)"
   ]
  },
  {
   "cell_type": "code",
   "execution_count": 40,
   "metadata": {},
   "outputs": [
    {
     "data": {
      "text/html": [
       "<div>\n",
       "<style scoped>\n",
       "    .dataframe tbody tr th:only-of-type {\n",
       "        vertical-align: middle;\n",
       "    }\n",
       "\n",
       "    .dataframe tbody tr th {\n",
       "        vertical-align: top;\n",
       "    }\n",
       "\n",
       "    .dataframe thead th {\n",
       "        text-align: right;\n",
       "    }\n",
       "</style>\n",
       "<table border=\"1\" class=\"dataframe\">\n",
       "  <thead>\n",
       "    <tr style=\"text-align: right;\">\n",
       "      <th></th>\n",
       "      <th>AGEP</th>\n",
       "      <th>SCHL</th>\n",
       "      <th>MAR</th>\n",
       "      <th>RELP</th>\n",
       "      <th>DIS</th>\n",
       "      <th>ESP</th>\n",
       "      <th>CIT</th>\n",
       "      <th>MIG</th>\n",
       "      <th>MIL</th>\n",
       "      <th>ANC</th>\n",
       "      <th>NATIVITY</th>\n",
       "      <th>DEAR</th>\n",
       "      <th>DEYE</th>\n",
       "      <th>DREM</th>\n",
       "      <th>SEX</th>\n",
       "      <th>RAC1P</th>\n",
       "      <th>ESR</th>\n",
       "    </tr>\n",
       "  </thead>\n",
       "  <tbody>\n",
       "    <tr>\n",
       "      <th>0</th>\n",
       "      <td>73.0</td>\n",
       "      <td>10.0</td>\n",
       "      <td>4.0</td>\n",
       "      <td>0.0</td>\n",
       "      <td>1.0</td>\n",
       "      <td>0.0</td>\n",
       "      <td>1.0</td>\n",
       "      <td>1.0</td>\n",
       "      <td>4.0</td>\n",
       "      <td>1.0</td>\n",
       "      <td>1.0</td>\n",
       "      <td>2.0</td>\n",
       "      <td>2.0</td>\n",
       "      <td>1.0</td>\n",
       "      <td>1.0</td>\n",
       "      <td>2.0</td>\n",
       "      <td>False</td>\n",
       "    </tr>\n",
       "    <tr>\n",
       "      <th>1</th>\n",
       "      <td>31.0</td>\n",
       "      <td>21.0</td>\n",
       "      <td>5.0</td>\n",
       "      <td>0.0</td>\n",
       "      <td>2.0</td>\n",
       "      <td>0.0</td>\n",
       "      <td>1.0</td>\n",
       "      <td>1.0</td>\n",
       "      <td>4.0</td>\n",
       "      <td>2.0</td>\n",
       "      <td>1.0</td>\n",
       "      <td>2.0</td>\n",
       "      <td>2.0</td>\n",
       "      <td>2.0</td>\n",
       "      <td>2.0</td>\n",
       "      <td>1.0</td>\n",
       "      <td>True</td>\n",
       "    </tr>\n",
       "    <tr>\n",
       "      <th>2</th>\n",
       "      <td>41.0</td>\n",
       "  